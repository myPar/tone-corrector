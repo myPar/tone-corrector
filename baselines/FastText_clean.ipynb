{
  "nbformat": 4,
  "nbformat_minor": 0,
  "metadata": {
    "colab": {
      "provenance": []
    },
    "kernelspec": {
      "name": "python3",
      "display_name": "Python 3"
    },
    "language_info": {
      "name": "python"
    }
  },
  "cells": [
    {
      "cell_type": "code",
      "source": [
        "!pip install fasttext"
      ],
      "metadata": {
        "id": "WJ37umZjmpgt"
      },
      "execution_count": null,
      "outputs": []
    },
    {
      "cell_type": "code",
      "source": [
        "!pip install numpy==1.23.5"
      ],
      "metadata": {
        "id": "qrLc1O28sAJs"
      },
      "execution_count": null,
      "outputs": []
    },
    {
      "cell_type": "code",
      "source": [
        "import numpy as np\n",
        "assert str(np.__version__)== '1.23.5'\n",
        "import fasttext\n",
        "import pandas as pd"
      ],
      "metadata": {
        "id": "npxkeFtEtB9e"
      },
      "execution_count": null,
      "outputs": []
    },
    {
      "cell_type": "code",
      "source": [
        "data_frame = pd.read_csv('/content/main_dataset.csv')\n",
        "data_frame"
      ],
      "metadata": {
        "id": "DHvLDkJ4thtJ",
        "colab": {
          "base_uri": "https://localhost:8080/",
          "height": 423
        },
        "outputId": "1c6bb55c-40d7-4001-aa33-1c8a5f306396"
      },
      "execution_count": null,
      "outputs": [
        {
          "output_type": "execute_result",
          "data": {
            "text/plain": [
              "       toxic                                            comment\n",
              "0        1.0                                убивать сразу сучек\n",
              "1        1.0                                 хорошая попа вдуть\n",
              "2        1.0  из вашей инецеативы долбоебы, государство може...\n",
              "3        1.0            ну а что,пизда-сильная организация ....\n",
              "4        1.0  ох, пиздец,прошу за слэнг сейчас придётся адми...\n",
              "...      ...                                                ...\n",
              "34407    1.0  Вонючий совковый скот прибежал и ноет. А вот и...\n",
              "34408    1.0  А кого любить? Гоблина тупорылого что-ли? Или ...\n",
              "34409    0.0  Посмотрел Утомленных солнцем 2. И оказалось, ч...\n",
              "34410    1.0  КРЫМОТРЕД НАРУШАЕТ ПРАВИЛА РАЗДЕЛА Т.К В НЕМ Н...\n",
              "34411    0.0  До сих пор пересматриваю его видео. Орамбо кст...\n",
              "\n",
              "[34412 rows x 2 columns]"
            ],
            "text/html": [
              "\n",
              "  <div id=\"df-cb6b9db6-30df-4de7-905f-d3bab21e9f79\" class=\"colab-df-container\">\n",
              "    <div>\n",
              "<style scoped>\n",
              "    .dataframe tbody tr th:only-of-type {\n",
              "        vertical-align: middle;\n",
              "    }\n",
              "\n",
              "    .dataframe tbody tr th {\n",
              "        vertical-align: top;\n",
              "    }\n",
              "\n",
              "    .dataframe thead th {\n",
              "        text-align: right;\n",
              "    }\n",
              "</style>\n",
              "<table border=\"1\" class=\"dataframe\">\n",
              "  <thead>\n",
              "    <tr style=\"text-align: right;\">\n",
              "      <th></th>\n",
              "      <th>toxic</th>\n",
              "      <th>comment</th>\n",
              "    </tr>\n",
              "  </thead>\n",
              "  <tbody>\n",
              "    <tr>\n",
              "      <th>0</th>\n",
              "      <td>1.0</td>\n",
              "      <td>убивать сразу сучек</td>\n",
              "    </tr>\n",
              "    <tr>\n",
              "      <th>1</th>\n",
              "      <td>1.0</td>\n",
              "      <td>хорошая попа вдуть</td>\n",
              "    </tr>\n",
              "    <tr>\n",
              "      <th>2</th>\n",
              "      <td>1.0</td>\n",
              "      <td>из вашей инецеативы долбоебы, государство може...</td>\n",
              "    </tr>\n",
              "    <tr>\n",
              "      <th>3</th>\n",
              "      <td>1.0</td>\n",
              "      <td>ну а что,пизда-сильная организация ....</td>\n",
              "    </tr>\n",
              "    <tr>\n",
              "      <th>4</th>\n",
              "      <td>1.0</td>\n",
              "      <td>ох, пиздец,прошу за слэнг сейчас придётся адми...</td>\n",
              "    </tr>\n",
              "    <tr>\n",
              "      <th>...</th>\n",
              "      <td>...</td>\n",
              "      <td>...</td>\n",
              "    </tr>\n",
              "    <tr>\n",
              "      <th>34407</th>\n",
              "      <td>1.0</td>\n",
              "      <td>Вонючий совковый скот прибежал и ноет. А вот и...</td>\n",
              "    </tr>\n",
              "    <tr>\n",
              "      <th>34408</th>\n",
              "      <td>1.0</td>\n",
              "      <td>А кого любить? Гоблина тупорылого что-ли? Или ...</td>\n",
              "    </tr>\n",
              "    <tr>\n",
              "      <th>34409</th>\n",
              "      <td>0.0</td>\n",
              "      <td>Посмотрел Утомленных солнцем 2. И оказалось, ч...</td>\n",
              "    </tr>\n",
              "    <tr>\n",
              "      <th>34410</th>\n",
              "      <td>1.0</td>\n",
              "      <td>КРЫМОТРЕД НАРУШАЕТ ПРАВИЛА РАЗДЕЛА Т.К В НЕМ Н...</td>\n",
              "    </tr>\n",
              "    <tr>\n",
              "      <th>34411</th>\n",
              "      <td>0.0</td>\n",
              "      <td>До сих пор пересматриваю его видео. Орамбо кст...</td>\n",
              "    </tr>\n",
              "  </tbody>\n",
              "</table>\n",
              "<p>34412 rows × 2 columns</p>\n",
              "</div>\n",
              "    <div class=\"colab-df-buttons\">\n",
              "\n",
              "  <div class=\"colab-df-container\">\n",
              "    <button class=\"colab-df-convert\" onclick=\"convertToInteractive('df-cb6b9db6-30df-4de7-905f-d3bab21e9f79')\"\n",
              "            title=\"Convert this dataframe to an interactive table.\"\n",
              "            style=\"display:none;\">\n",
              "\n",
              "  <svg xmlns=\"http://www.w3.org/2000/svg\" height=\"24px\" viewBox=\"0 -960 960 960\">\n",
              "    <path d=\"M120-120v-720h720v720H120Zm60-500h600v-160H180v160Zm220 220h160v-160H400v160Zm0 220h160v-160H400v160ZM180-400h160v-160H180v160Zm440 0h160v-160H620v160ZM180-180h160v-160H180v160Zm440 0h160v-160H620v160Z\"/>\n",
              "  </svg>\n",
              "    </button>\n",
              "\n",
              "  <style>\n",
              "    .colab-df-container {\n",
              "      display:flex;\n",
              "      gap: 12px;\n",
              "    }\n",
              "\n",
              "    .colab-df-convert {\n",
              "      background-color: #E8F0FE;\n",
              "      border: none;\n",
              "      border-radius: 50%;\n",
              "      cursor: pointer;\n",
              "      display: none;\n",
              "      fill: #1967D2;\n",
              "      height: 32px;\n",
              "      padding: 0 0 0 0;\n",
              "      width: 32px;\n",
              "    }\n",
              "\n",
              "    .colab-df-convert:hover {\n",
              "      background-color: #E2EBFA;\n",
              "      box-shadow: 0px 1px 2px rgba(60, 64, 67, 0.3), 0px 1px 3px 1px rgba(60, 64, 67, 0.15);\n",
              "      fill: #174EA6;\n",
              "    }\n",
              "\n",
              "    .colab-df-buttons div {\n",
              "      margin-bottom: 4px;\n",
              "    }\n",
              "\n",
              "    [theme=dark] .colab-df-convert {\n",
              "      background-color: #3B4455;\n",
              "      fill: #D2E3FC;\n",
              "    }\n",
              "\n",
              "    [theme=dark] .colab-df-convert:hover {\n",
              "      background-color: #434B5C;\n",
              "      box-shadow: 0px 1px 3px 1px rgba(0, 0, 0, 0.15);\n",
              "      filter: drop-shadow(0px 1px 2px rgba(0, 0, 0, 0.3));\n",
              "      fill: #FFFFFF;\n",
              "    }\n",
              "  </style>\n",
              "\n",
              "    <script>\n",
              "      const buttonEl =\n",
              "        document.querySelector('#df-cb6b9db6-30df-4de7-905f-d3bab21e9f79 button.colab-df-convert');\n",
              "      buttonEl.style.display =\n",
              "        google.colab.kernel.accessAllowed ? 'block' : 'none';\n",
              "\n",
              "      async function convertToInteractive(key) {\n",
              "        const element = document.querySelector('#df-cb6b9db6-30df-4de7-905f-d3bab21e9f79');\n",
              "        const dataTable =\n",
              "          await google.colab.kernel.invokeFunction('convertToInteractive',\n",
              "                                                    [key], {});\n",
              "        if (!dataTable) return;\n",
              "\n",
              "        const docLinkHtml = 'Like what you see? Visit the ' +\n",
              "          '<a target=\"_blank\" href=https://colab.research.google.com/notebooks/data_table.ipynb>data table notebook</a>'\n",
              "          + ' to learn more about interactive tables.';\n",
              "        element.innerHTML = '';\n",
              "        dataTable['output_type'] = 'display_data';\n",
              "        await google.colab.output.renderOutput(dataTable, element);\n",
              "        const docLink = document.createElement('div');\n",
              "        docLink.innerHTML = docLinkHtml;\n",
              "        element.appendChild(docLink);\n",
              "      }\n",
              "    </script>\n",
              "  </div>\n",
              "\n",
              "\n",
              "<div id=\"df-7bd566d8-10e3-4211-99e5-79257104b5ad\">\n",
              "  <button class=\"colab-df-quickchart\" onclick=\"quickchart('df-7bd566d8-10e3-4211-99e5-79257104b5ad')\"\n",
              "            title=\"Suggest charts\"\n",
              "            style=\"display:none;\">\n",
              "\n",
              "<svg xmlns=\"http://www.w3.org/2000/svg\" height=\"24px\"viewBox=\"0 0 24 24\"\n",
              "     width=\"24px\">\n",
              "    <g>\n",
              "        <path d=\"M19 3H5c-1.1 0-2 .9-2 2v14c0 1.1.9 2 2 2h14c1.1 0 2-.9 2-2V5c0-1.1-.9-2-2-2zM9 17H7v-7h2v7zm4 0h-2V7h2v10zm4 0h-2v-4h2v4z\"/>\n",
              "    </g>\n",
              "</svg>\n",
              "  </button>\n",
              "\n",
              "<style>\n",
              "  .colab-df-quickchart {\n",
              "      --bg-color: #E8F0FE;\n",
              "      --fill-color: #1967D2;\n",
              "      --hover-bg-color: #E2EBFA;\n",
              "      --hover-fill-color: #174EA6;\n",
              "      --disabled-fill-color: #AAA;\n",
              "      --disabled-bg-color: #DDD;\n",
              "  }\n",
              "\n",
              "  [theme=dark] .colab-df-quickchart {\n",
              "      --bg-color: #3B4455;\n",
              "      --fill-color: #D2E3FC;\n",
              "      --hover-bg-color: #434B5C;\n",
              "      --hover-fill-color: #FFFFFF;\n",
              "      --disabled-bg-color: #3B4455;\n",
              "      --disabled-fill-color: #666;\n",
              "  }\n",
              "\n",
              "  .colab-df-quickchart {\n",
              "    background-color: var(--bg-color);\n",
              "    border: none;\n",
              "    border-radius: 50%;\n",
              "    cursor: pointer;\n",
              "    display: none;\n",
              "    fill: var(--fill-color);\n",
              "    height: 32px;\n",
              "    padding: 0;\n",
              "    width: 32px;\n",
              "  }\n",
              "\n",
              "  .colab-df-quickchart:hover {\n",
              "    background-color: var(--hover-bg-color);\n",
              "    box-shadow: 0 1px 2px rgba(60, 64, 67, 0.3), 0 1px 3px 1px rgba(60, 64, 67, 0.15);\n",
              "    fill: var(--button-hover-fill-color);\n",
              "  }\n",
              "\n",
              "  .colab-df-quickchart-complete:disabled,\n",
              "  .colab-df-quickchart-complete:disabled:hover {\n",
              "    background-color: var(--disabled-bg-color);\n",
              "    fill: var(--disabled-fill-color);\n",
              "    box-shadow: none;\n",
              "  }\n",
              "\n",
              "  .colab-df-spinner {\n",
              "    border: 2px solid var(--fill-color);\n",
              "    border-color: transparent;\n",
              "    border-bottom-color: var(--fill-color);\n",
              "    animation:\n",
              "      spin 1s steps(1) infinite;\n",
              "  }\n",
              "\n",
              "  @keyframes spin {\n",
              "    0% {\n",
              "      border-color: transparent;\n",
              "      border-bottom-color: var(--fill-color);\n",
              "      border-left-color: var(--fill-color);\n",
              "    }\n",
              "    20% {\n",
              "      border-color: transparent;\n",
              "      border-left-color: var(--fill-color);\n",
              "      border-top-color: var(--fill-color);\n",
              "    }\n",
              "    30% {\n",
              "      border-color: transparent;\n",
              "      border-left-color: var(--fill-color);\n",
              "      border-top-color: var(--fill-color);\n",
              "      border-right-color: var(--fill-color);\n",
              "    }\n",
              "    40% {\n",
              "      border-color: transparent;\n",
              "      border-right-color: var(--fill-color);\n",
              "      border-top-color: var(--fill-color);\n",
              "    }\n",
              "    60% {\n",
              "      border-color: transparent;\n",
              "      border-right-color: var(--fill-color);\n",
              "    }\n",
              "    80% {\n",
              "      border-color: transparent;\n",
              "      border-right-color: var(--fill-color);\n",
              "      border-bottom-color: var(--fill-color);\n",
              "    }\n",
              "    90% {\n",
              "      border-color: transparent;\n",
              "      border-bottom-color: var(--fill-color);\n",
              "    }\n",
              "  }\n",
              "</style>\n",
              "\n",
              "  <script>\n",
              "    async function quickchart(key) {\n",
              "      const quickchartButtonEl =\n",
              "        document.querySelector('#' + key + ' button');\n",
              "      quickchartButtonEl.disabled = true;  // To prevent multiple clicks.\n",
              "      quickchartButtonEl.classList.add('colab-df-spinner');\n",
              "      try {\n",
              "        const charts = await google.colab.kernel.invokeFunction(\n",
              "            'suggestCharts', [key], {});\n",
              "      } catch (error) {\n",
              "        console.error('Error during call to suggestCharts:', error);\n",
              "      }\n",
              "      quickchartButtonEl.classList.remove('colab-df-spinner');\n",
              "      quickchartButtonEl.classList.add('colab-df-quickchart-complete');\n",
              "    }\n",
              "    (() => {\n",
              "      let quickchartButtonEl =\n",
              "        document.querySelector('#df-7bd566d8-10e3-4211-99e5-79257104b5ad button');\n",
              "      quickchartButtonEl.style.display =\n",
              "        google.colab.kernel.accessAllowed ? 'block' : 'none';\n",
              "    })();\n",
              "  </script>\n",
              "</div>\n",
              "    </div>\n",
              "  </div>\n"
            ],
            "application/vnd.google.colaboratory.intrinsic+json": {
              "type": "dataframe",
              "variable_name": "data_frame",
              "summary": "{\n  \"name\": \"data_frame\",\n  \"rows\": 34412,\n  \"fields\": [\n    {\n      \"column\": \"toxic\",\n      \"properties\": {\n        \"dtype\": \"number\",\n        \"std\": 0.49520072182646413,\n        \"min\": 0.0,\n        \"max\": 1.0,\n        \"num_unique_values\": 2,\n        \"samples\": [\n          0.0,\n          1.0\n        ],\n        \"semantic_type\": \"\",\n        \"description\": \"\"\n      }\n    },\n    {\n      \"column\": \"comment\",\n      \"properties\": {\n        \"dtype\": \"string\",\n        \"num_unique_values\": 34410,\n        \"samples\": [\n          \"\\u0417\\u043e\\u043e\\u0448\\u0438\\u0437\\u0430 \\u044d\\u0433\\u043e\\u0438\\u0441\\u0442\\u0438\\u0447\\u043d\\u0430\\u044f \\u043f\\u043e\\u0434\\u044a\\u0435\\u0445\\u0430\\u043b\\u0430, \\u0433\\u0434\\u0435 \\u0433\\u0430\\u0440\\u0430\\u043d\\u0442\\u0438\\u0438 \\u043a\\u0440\\u043e\\u043c\\u0435: \\u044f \\u0432\\u043c\\u0435\\u043d\\u044f\\u0435\\u043c\\u044b\\u0439 \\u0447\\u0435\\u043b\\u043e\\u0432\\u043d\\u043a \\u0438 \\u0432\\u0441\\u0435 \\u0441\\u0434\\u0435\\u043b\\u0430\\u044e \\u0431\\u0435\\u0437\\u043e\\u043f\\u0430\\u0441\\u0442\\u043d\\u043e . \\u0422\\u044b \\u043c\\u043e\\u0436\\u0435\\u0442 \\u0438 \\u0434\\u0430. \\u0410 \\u0432\\u043e\\u0442 \\u0432\\u0430\\u0441\\u044f \\u043f\\u0443\\u043f\\u043a\\u0438\\u043d \\u043d\\u0435\\u0442.\\n\",\n          \"\\u043f\\u0440\\u0447\\u0432\\u0435\\u043c \\u043e\\u0448 \\u0433\\u0430\\u043b\\u0438\\u043d\\u043a\\u0438 \\u0432\"\n        ],\n        \"semantic_type\": \"\",\n        \"description\": \"\"\n      }\n    }\n  ]\n}"
            }
          },
          "metadata": {},
          "execution_count": 3
        }
      ]
    },
    {
      "cell_type": "code",
      "source": [
        "import re\n",
        "\n",
        "def label_transform(label_numb):\n",
        "  if label_numb == 1.0:\n",
        "    return 'negative'\n",
        "  else:\n",
        "     return 'positive'\n",
        "\n",
        "def preprocess(text):\n",
        "    text = text.lower()\n",
        "    text = re.sub(r'[^\\а-яА-ЯЁё]', ' ', text)\n",
        "    text = text.strip()\n",
        "    return text"
      ],
      "metadata": {
        "id": "HT-zMsMvw_Bl"
      },
      "execution_count": null,
      "outputs": []
    },
    {
      "cell_type": "code",
      "source": [
        "data_frame[\"prepare_comment\"] = data_frame.apply(lambda row: \"__label__\"+label_transform(row.toxic) + ' '+preprocess(row.comment), axis = 1)"
      ],
      "metadata": {
        "id": "AfiRa_MVwheK"
      },
      "execution_count": null,
      "outputs": []
    },
    {
      "cell_type": "code",
      "source": [
        "from sklearn.model_selection import train_test_split\n",
        "train_df, test_df = train_test_split(data_frame, random_state=42, test_size=0.2)\n",
        "test_df, val_df = train_test_split(test_df, random_state=42, test_size=0.5)"
      ],
      "metadata": {
        "id": "T5B8IZ4yZ8y8"
      },
      "execution_count": null,
      "outputs": []
    },
    {
      "cell_type": "code",
      "execution_count": null,
      "metadata": {
        "id": "WOxkjUrkmaxx"
      },
      "outputs": [],
      "source": [
        "data = train_df['prepare_comment'].to_list()\n",
        "with open(\"train.txt\", \"w\", encoding=\"utf-8\") as f:\n",
        "    f.write(\"\\n\".join(data))"
      ]
    },
    {
      "cell_type": "code",
      "source": [
        "model = fasttext.train_supervised(\"train.txt\", lr = 0.1,  epoch = 10, wordNgrams=3, dim=200, loss='softmax' )"
      ],
      "metadata": {
        "id": "piAlTzD06nCT"
      },
      "execution_count": null,
      "outputs": []
    },
    {
      "cell_type": "code",
      "source": [
        "model.save_model('model_fasttext.bin')"
      ],
      "metadata": {
        "id": "Y22nFPLmncC2"
      },
      "execution_count": null,
      "outputs": []
    },
    {
      "cell_type": "code",
      "source": [
        "labels_test, probs_test = model.predict(test_df['prepare_comment'].to_list())\n",
        "classes_test_df = pd.DataFrame({'classes' : labels_test})\n",
        "classes_test_df['classes'] = classes_test_df['classes'].apply(lambda x: int(x[0]!=\"__label__positive\"))\n",
        "\n",
        "labels_train, probs_train = model.predict(train_df['prepare_comment'].to_list())\n",
        "classes_train_df = pd.DataFrame({'classes' : labels_train})\n",
        "classes_train_df['classes'] = classes_train_df['classes'].apply(lambda x: int(x[0]!=\"__label__positive\"))"
      ],
      "metadata": {
        "id": "q3SAX6benGwF"
      },
      "execution_count": null,
      "outputs": []
    },
    {
      "cell_type": "code",
      "source": [
        "from sklearn.metrics import accuracy_score, precision_score, recall_score\n",
        "print(\"accuracy_train:  \", accuracy_score(train_df['toxic'], classes_train_df['classes']))\n",
        "print(\"precision__train:  \", precision_score(train_df['toxic'], classes_train_df['classes']))\n",
        "print(\"recall_train:  \", recall_score(train_df['toxic'], classes_train_df['classes']))\n",
        "\n",
        "print('\\n')\n",
        "print(\"accuracy_test:  \", accuracy_score(test_df['toxic'], classes_test_df['classes']))\n",
        "print(\"precision__test:  \", precision_score(test_df['toxic'], classes_test_df['classes']))\n",
        "print(\"recall_test:  \", recall_score(test_df['toxic'], classes_test_df['classes']))\n"
      ],
      "metadata": {
        "colab": {
          "base_uri": "https://localhost:8080/"
        },
        "id": "Z_siEQG-doZL",
        "outputId": "ae3973a6-e92d-4bae-b5dc-a712b7fef85c"
      },
      "execution_count": null,
      "outputs": [
        {
          "output_type": "stream",
          "name": "stdout",
          "text": [
            "accuracy_train:   0.9807839006138981\n",
            "precision__train:   0.9872699122656116\n",
            "recall_train:   0.9678725018972932\n",
            "\n",
            "\n",
            "accuracy_test:   0.8761987794245859\n",
            "precision__test:   0.9045801526717557\n",
            "recall_test:   0.797442799461642\n"
          ]
        }
      ]
    }
  ]
}